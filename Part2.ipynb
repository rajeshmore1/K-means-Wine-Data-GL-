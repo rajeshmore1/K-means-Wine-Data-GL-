{
  "nbformat": 4,
  "nbformat_minor": 0,
  "metadata": {
    "colab": {
      "name": "Part2.ipynb",
      "provenance": [],
      "mount_file_id": "18jy7nHDXhkxFISFACiloF7k89wkMAoo9",
      "authorship_tag": "ABX9TyOY9PHv8Uw4GyRnQOoLsP8d",
      "include_colab_link": true
    },
    "kernelspec": {
      "name": "python3",
      "display_name": "Python 3"
    },
    "language_info": {
      "name": "python"
    }
  },
  "cells": [
    {
      "cell_type": "markdown",
      "metadata": {
        "id": "view-in-github",
        "colab_type": "text"
      },
      "source": [
        "<a href=\"https://colab.research.google.com/github/rajeshmore1/K-means-Wine-Data-GL-/blob/main/Part2.ipynb\" target=\"_parent\"><img src=\"https://colab.research.google.com/assets/colab-badge.svg\" alt=\"Open In Colab\"/></a>"
      ]
    },
    {
      "cell_type": "code",
      "metadata": {
        "id": "ycMDXO9fLk4O"
      },
      "source": [
        "import pandas as pd\n",
        "import numpy as np\n",
        "import pandas as pd\n",
        "pd.set_option('display.max_columns', None)\n",
        "pd.options.display.float_format = \"{:.2f}\".format\n",
        "\n",
        "import numpy as np\n",
        "\n",
        "import seaborn as sns\n",
        "import matplotlib.pyplot as plt\n",
        "\n",
        "from tqdm import tqdm"
      ],
      "execution_count": 16,
      "outputs": []
    },
    {
      "cell_type": "code",
      "metadata": {
        "id": "JdhXArrDMdwx"
      },
      "source": [
        "df = pd.read_excel(\"/content/drive/MyDrive/Colab Notebooks/Ved 27 Sept/Part2 - Company.xlsx\")"
      ],
      "execution_count": 17,
      "outputs": []
    },
    {
      "cell_type": "code",
      "metadata": {
        "colab": {
          "base_uri": "https://localhost:8080/",
          "height": 203
        },
        "id": "I2Iq0kq3MlCI",
        "outputId": "fb4aafa8-4fcc-4935-98b1-825f5809c1e7"
      },
      "source": [
        "df.sample(5)"
      ],
      "execution_count": 18,
      "outputs": [
        {
          "output_type": "execute_result",
          "data": {
            "text/html": [
              "<div>\n",
              "<style scoped>\n",
              "    .dataframe tbody tr th:only-of-type {\n",
              "        vertical-align: middle;\n",
              "    }\n",
              "\n",
              "    .dataframe tbody tr th {\n",
              "        vertical-align: top;\n",
              "    }\n",
              "\n",
              "    .dataframe thead th {\n",
              "        text-align: right;\n",
              "    }\n",
              "</style>\n",
              "<table border=\"1\" class=\"dataframe\">\n",
              "  <thead>\n",
              "    <tr style=\"text-align: right;\">\n",
              "      <th></th>\n",
              "      <th>A</th>\n",
              "      <th>B</th>\n",
              "      <th>C</th>\n",
              "      <th>D</th>\n",
              "      <th>Quality</th>\n",
              "    </tr>\n",
              "  </thead>\n",
              "  <tbody>\n",
              "    <tr>\n",
              "      <th>1</th>\n",
              "      <td>174</td>\n",
              "      <td>133</td>\n",
              "      <td>134</td>\n",
              "      <td>166</td>\n",
              "      <td>Quality B</td>\n",
              "    </tr>\n",
              "    <tr>\n",
              "      <th>42</th>\n",
              "      <td>48</td>\n",
              "      <td>68</td>\n",
              "      <td>98</td>\n",
              "      <td>51</td>\n",
              "      <td>Quality A</td>\n",
              "    </tr>\n",
              "    <tr>\n",
              "      <th>43</th>\n",
              "      <td>169</td>\n",
              "      <td>184</td>\n",
              "      <td>200</td>\n",
              "      <td>133</td>\n",
              "      <td>Quality B</td>\n",
              "    </tr>\n",
              "    <tr>\n",
              "      <th>58</th>\n",
              "      <td>88</td>\n",
              "      <td>39</td>\n",
              "      <td>9</td>\n",
              "      <td>102</td>\n",
              "      <td>NaN</td>\n",
              "    </tr>\n",
              "    <tr>\n",
              "      <th>54</th>\n",
              "      <td>70</td>\n",
              "      <td>96</td>\n",
              "      <td>70</td>\n",
              "      <td>103</td>\n",
              "      <td>Quality A</td>\n",
              "    </tr>\n",
              "  </tbody>\n",
              "</table>\n",
              "</div>"
            ],
            "text/plain": [
              "      A    B    C    D    Quality\n",
              "1   174  133  134  166  Quality B\n",
              "42   48   68   98   51  Quality A\n",
              "43  169  184  200  133  Quality B\n",
              "58   88   39    9  102        NaN\n",
              "54   70   96   70  103  Quality A"
            ]
          },
          "metadata": {},
          "execution_count": 18
        }
      ]
    },
    {
      "cell_type": "code",
      "metadata": {
        "id": "I9H27ss4MqD_"
      },
      "source": [
        ""
      ],
      "execution_count": 18,
      "outputs": []
    },
    {
      "cell_type": "markdown",
      "metadata": {
        "id": "bUK2FO5CMyVm"
      },
      "source": [
        "## Guide\n",
        "Target variable of the existing dataset has missing values.\n",
        "Use the dataset ( ignore the existing target ) to generate clusters ( new potential target )\n",
        "\n",
        "Compare the clusters with the existing target and find if they follow similar pattern.\n",
        "\n",
        "If you find a similar pattern replace the newly predicted cluster with original missing targets from dataset"
      ]
    },
    {
      "cell_type": "code",
      "metadata": {
        "colab": {
          "base_uri": "https://localhost:8080/"
        },
        "id": "evZMEIN8M4yc",
        "outputId": "135d40fa-8ce8-4a56-cce0-89902250e87f"
      },
      "source": [
        "df.info()"
      ],
      "execution_count": 19,
      "outputs": [
        {
          "output_type": "stream",
          "text": [
            "<class 'pandas.core.frame.DataFrame'>\n",
            "RangeIndex: 61 entries, 0 to 60\n",
            "Data columns (total 5 columns):\n",
            " #   Column   Non-Null Count  Dtype \n",
            "---  ------   --------------  ----- \n",
            " 0   A        61 non-null     int64 \n",
            " 1   B        61 non-null     int64 \n",
            " 2   C        61 non-null     int64 \n",
            " 3   D        61 non-null     int64 \n",
            " 4   Quality  43 non-null     object\n",
            "dtypes: int64(4), object(1)\n",
            "memory usage: 2.5+ KB\n"
          ],
          "name": "stdout"
        }
      ]
    },
    {
      "cell_type": "code",
      "metadata": {
        "colab": {
          "base_uri": "https://localhost:8080/",
          "height": 295
        },
        "id": "MgTONKbrO37A",
        "outputId": "ac39d9bb-9e11-4084-e35a-d69f32be714f"
      },
      "source": [
        "df.describe()"
      ],
      "execution_count": 20,
      "outputs": [
        {
          "output_type": "execute_result",
          "data": {
            "text/html": [
              "<div>\n",
              "<style scoped>\n",
              "    .dataframe tbody tr th:only-of-type {\n",
              "        vertical-align: middle;\n",
              "    }\n",
              "\n",
              "    .dataframe tbody tr th {\n",
              "        vertical-align: top;\n",
              "    }\n",
              "\n",
              "    .dataframe thead th {\n",
              "        text-align: right;\n",
              "    }\n",
              "</style>\n",
              "<table border=\"1\" class=\"dataframe\">\n",
              "  <thead>\n",
              "    <tr style=\"text-align: right;\">\n",
              "      <th></th>\n",
              "      <th>A</th>\n",
              "      <th>B</th>\n",
              "      <th>C</th>\n",
              "      <th>D</th>\n",
              "    </tr>\n",
              "  </thead>\n",
              "  <tbody>\n",
              "    <tr>\n",
              "      <th>count</th>\n",
              "      <td>61.00</td>\n",
              "      <td>61.00</td>\n",
              "      <td>61.00</td>\n",
              "      <td>61.00</td>\n",
              "    </tr>\n",
              "    <tr>\n",
              "      <th>mean</th>\n",
              "      <td>118.56</td>\n",
              "      <td>116.64</td>\n",
              "      <td>114.08</td>\n",
              "      <td>114.46</td>\n",
              "    </tr>\n",
              "    <tr>\n",
              "      <th>std</th>\n",
              "      <td>61.77</td>\n",
              "      <td>57.90</td>\n",
              "      <td>65.62</td>\n",
              "      <td>63.14</td>\n",
              "    </tr>\n",
              "    <tr>\n",
              "      <th>min</th>\n",
              "      <td>3.00</td>\n",
              "      <td>5.00</td>\n",
              "      <td>3.00</td>\n",
              "      <td>3.00</td>\n",
              "    </tr>\n",
              "    <tr>\n",
              "      <th>25%</th>\n",
              "      <td>61.00</td>\n",
              "      <td>63.00</td>\n",
              "      <td>59.00</td>\n",
              "      <td>51.00</td>\n",
              "    </tr>\n",
              "    <tr>\n",
              "      <th>50%</th>\n",
              "      <td>136.00</td>\n",
              "      <td>138.00</td>\n",
              "      <td>135.00</td>\n",
              "      <td>132.00</td>\n",
              "    </tr>\n",
              "    <tr>\n",
              "      <th>75%</th>\n",
              "      <td>171.00</td>\n",
              "      <td>168.00</td>\n",
              "      <td>174.00</td>\n",
              "      <td>174.00</td>\n",
              "    </tr>\n",
              "    <tr>\n",
              "      <th>max</th>\n",
              "      <td>200.00</td>\n",
              "      <td>200.00</td>\n",
              "      <td>200.00</td>\n",
              "      <td>199.00</td>\n",
              "    </tr>\n",
              "  </tbody>\n",
              "</table>\n",
              "</div>"
            ],
            "text/plain": [
              "           A      B      C      D\n",
              "count  61.00  61.00  61.00  61.00\n",
              "mean  118.56 116.64 114.08 114.46\n",
              "std    61.77  57.90  65.62  63.14\n",
              "min     3.00   5.00   3.00   3.00\n",
              "25%    61.00  63.00  59.00  51.00\n",
              "50%   136.00 138.00 135.00 132.00\n",
              "75%   171.00 168.00 174.00 174.00\n",
              "max   200.00 200.00 200.00 199.00"
            ]
          },
          "metadata": {},
          "execution_count": 20
        }
      ]
    },
    {
      "cell_type": "code",
      "metadata": {
        "colab": {
          "base_uri": "https://localhost:8080/"
        },
        "id": "HlzJjDnGPe8Q",
        "outputId": "459e0728-63e3-4a34-8f79-ca75ba8bc6e7"
      },
      "source": [
        "# Checking skewness\n",
        "df.skew()"
      ],
      "execution_count": 21,
      "outputs": [
        {
          "output_type": "execute_result",
          "data": {
            "text/plain": [
              "A   -0.36\n",
              "B   -0.42\n",
              "C   -0.37\n",
              "D   -0.27\n",
              "dtype: float64"
            ]
          },
          "metadata": {},
          "execution_count": 21
        }
      ]
    },
    {
      "cell_type": "code",
      "metadata": {
        "colab": {
          "base_uri": "https://localhost:8080/",
          "height": 616
        },
        "id": "DwcOdaBMPoL5",
        "outputId": "d8205e23-1fc7-4f8a-d739-70a1fbf12c23"
      },
      "source": [
        "sns.set(style='white',font_scale=1.3, rc={'figure.figsize':(10,10)})\n",
        "ax=df.hist(bins=20,color='red' )"
      ],
      "execution_count": 22,
      "outputs": [
        {
          "output_type": "display_data",
          "data": {
            "image/png": "[encoded data removed]",
            "text/plain": [
              "<Figure size 720x720 with 4 Axes>"
            ]
          },
          "metadata": {}
        }
      ]
    },
    {
      "cell_type": "code",
      "metadata": {
        "id": "iTKNJlBRPvms"
      },
      "source": [
        ""
      ],
      "execution_count": 24,
      "outputs": []
    },
    {
      "cell_type": "code",
      "metadata": {
        "id": "t8e0tUeCQXnI"
      },
      "source": [
        "df2 = df.drop(['Quality'], axis = 1)"
      ],
      "execution_count": 23,
      "outputs": []
    },
    {
      "cell_type": "code",
      "metadata": {
        "colab": {
          "base_uri": "https://localhost:8080/",
          "height": 142
        },
        "id": "A7aGCumTQB16",
        "outputId": "a62c56bc-079b-4750-b9ac-c4a44b7dda20"
      },
      "source": [
        "df2.sample(3)"
      ],
      "execution_count": 24,
      "outputs": [
        {
          "output_type": "execute_result",
          "data": {
            "text/html": [
              "<div>\n",
              "<style scoped>\n",
              "    .dataframe tbody tr th:only-of-type {\n",
              "        vertical-align: middle;\n",
              "    }\n",
              "\n",
              "    .dataframe tbody tr th {\n",
              "        vertical-align: top;\n",
              "    }\n",
              "\n",
              "    .dataframe thead th {\n",
              "        text-align: right;\n",
              "    }\n",
              "</style>\n",
              "<table border=\"1\" class=\"dataframe\">\n",
              "  <thead>\n",
              "    <tr style=\"text-align: right;\">\n",
              "      <th></th>\n",
              "      <th>A</th>\n",
              "      <th>B</th>\n",
              "      <th>C</th>\n",
              "      <th>D</th>\n",
              "    </tr>\n",
              "  </thead>\n",
              "  <tbody>\n",
              "    <tr>\n",
              "      <th>3</th>\n",
              "      <td>61</td>\n",
              "      <td>23</td>\n",
              "      <td>3</td>\n",
              "      <td>44</td>\n",
              "    </tr>\n",
              "    <tr>\n",
              "      <th>39</th>\n",
              "      <td>102</td>\n",
              "      <td>5</td>\n",
              "      <td>59</td>\n",
              "      <td>72</td>\n",
              "    </tr>\n",
              "    <tr>\n",
              "      <th>23</th>\n",
              "      <td>171</td>\n",
              "      <td>185</td>\n",
              "      <td>181</td>\n",
              "      <td>183</td>\n",
              "    </tr>\n",
              "  </tbody>\n",
              "</table>\n",
              "</div>"
            ],
            "text/plain": [
              "      A    B    C    D\n",
              "3    61   23    3   44\n",
              "39  102    5   59   72\n",
              "23  171  185  181  183"
            ]
          },
          "metadata": {},
          "execution_count": 24
        }
      ]
    },
    {
      "cell_type": "code",
      "metadata": {
        "colab": {
          "base_uri": "https://localhost:8080/"
        },
        "id": "UZyg5-FVQtwk",
        "outputId": "7d5d119e-2d4d-461f-aef9-1fb201b6a03b"
      },
      "source": [
        "import sklearn.cluster as cluster\n",
        "\n",
        "inertia = []\n",
        "for i in tqdm(range(2,10)):\n",
        "    kmeans = cluster.KMeans(n_clusters=i,\n",
        "               init='k-means++',\n",
        "               n_init=15,\n",
        "               max_iter=500,\n",
        "               random_state=17)\n",
        "    kmeans.fit(df2)\n",
        "    inertia.append(kmeans.inertia_)"
      ],
      "execution_count": 25,
      "outputs": [
        {
          "output_type": "stream",
          "text": [
            "100%|██████████| 8/8 [00:00<00:00, 15.54it/s]\n"
          ],
          "name": "stderr"
        }
      ]
    },
    {
      "cell_type": "code",
      "metadata": {
        "colab": {
          "base_uri": "https://localhost:8080/"
        },
        "id": "75wxaQKwZGGG",
        "outputId": "f197b08a-652d-43f0-bc4f-3a463fec82e4"
      },
      "source": [
        "from sklearn.metrics import silhouette_score\n",
        "\n",
        "silhouette = {}\n",
        "for i in tqdm(range(2,10)):\n",
        "    kmeans = cluster.KMeans(n_clusters=i,\n",
        "               init='k-means++',\n",
        "               n_init=15,\n",
        "               max_iter=500,\n",
        "               random_state=17)\n",
        "    kmeans.fit(df2)\n",
        "    silhouette[i] = silhouette_score(df2, kmeans.labels_, metric='euclidean')\n"
      ],
      "execution_count": 27,
      "outputs": [
        {
          "output_type": "stream",
          "text": [
            "100%|██████████| 8/8 [00:00<00:00, 12.98it/s]\n"
          ],
          "name": "stderr"
        }
      ]
    },
    {
      "cell_type": "code",
      "metadata": {
        "colab": {
          "base_uri": "https://localhost:8080/",
          "height": 358
        },
        "id": "n-Ht8w5yZTJn",
        "outputId": "0550218a-acc4-4d01-9ad0-6c364ef7e41b"
      },
      "source": [
        "sns.set(style='white',font_scale=1.1, rc={'figure.figsize':(12,5)})\n",
        "\n",
        "plt.subplot(1, 2, 1)\n",
        "\n",
        "plt.plot(range(2,len(inertia)+2), inertia, marker='o',lw=2,ms=8,color='red')\n",
        "plt.xlabel('Number of clusters')\n",
        "plt.title('K-means Inertia',fontweight='bold')\n",
        "plt.grid(True)\n",
        "\n",
        "plt.subplot(1, 2, 2)\n",
        "\n",
        "plt.bar(range(len(silhouette)), list(silhouette.values()), align='center',color= 'red',width=0.5)\n",
        "plt.xticks(range(len(silhouette)), list(silhouette.keys()))\n",
        "plt.grid()\n",
        "plt.title('Silhouette Score',fontweight='bold')\n",
        "plt.xlabel('Number of Clusters')\n",
        "\n",
        "\n",
        "plt.show()"
      ],
      "execution_count": 28,
      "outputs": [
        {
          "output_type": "display_data",
          "data": {
            "image/png": "[encoded data removed]",
            "text/plain": [
              "<Figure size 864x360 with 2 Axes>"
            ]
          },
          "metadata": {}
        }
      ]
    },
    {
      "cell_type": "code",
      "metadata": {
        "colab": {
          "base_uri": "https://localhost:8080/"
        },
        "id": "Hv9QoeVxZbpa",
        "outputId": "d8896f98-6b23-477b-a6bd-c191d288caa5"
      },
      "source": [
        "# As we can see, in K=2 all the metrics indicates that it is the best clusters number. So, we'll be using it\n",
        "kmeans = cluster.KMeans(n_clusters=2,random_state=17,init='k-means++')\n",
        "kmeans_labels = kmeans.fit_predict(df2)\n",
        "\n",
        "centroids = kmeans.cluster_centers_\n",
        "#centroids_pca = pca_2.transform(centroids)\n",
        "\n",
        "pd.Series(kmeans_labels).value_counts()"
      ],
      "execution_count": 31,
      "outputs": [
        {
          "output_type": "execute_result",
          "data": {
            "text/plain": [
              "1    33\n",
              "0    28\n",
              "dtype: int64"
            ]
          },
          "metadata": {},
          "execution_count": 31
        }
      ]
    },
    {
      "cell_type": "code",
      "metadata": {
        "colab": {
          "base_uri": "https://localhost:8080/"
        },
        "id": "BTgnQIq1Z2F7",
        "outputId": "8ac3ff0e-e1d4-4de0-bedf-17fbf83e8599"
      },
      "source": [
        "df.Quality.value_counts()"
      ],
      "execution_count": 32,
      "outputs": [
        {
          "output_type": "execute_result",
          "data": {
            "text/plain": [
              "Quality A    26\n",
              "Quality B    17\n",
              "Name: Quality, dtype: int64"
            ]
          },
          "metadata": {},
          "execution_count": 32
        }
      ]
    },
    {
      "cell_type": "code",
      "metadata": {
        "colab": {
          "base_uri": "https://localhost:8080/",
          "height": 821
        },
        "id": "OOwMrf0QaQZM",
        "outputId": "cba0caee-a1e3-404e-9063-22c199ad5449"
      },
      "source": [
        "data2=df2.copy()\n",
        "data2['Cluster']=kmeans_labels\n",
        "\n",
        "aux=data2.columns.tolist()\n",
        "aux[0:len(aux)-1]\n",
        "\n",
        "for cluster in aux[0:len(aux)-1]:\n",
        "    grid= sns.FacetGrid(data2, col='Cluster')\n",
        "    grid.map(plt.hist, cluster,color='red')"
      ],
      "execution_count": 35,
      "outputs": [
        {
          "output_type": "display_data",
          "data": {
            "image/png": "[encoded data removed]",
            "text/plain": [
              "<Figure size 432x216 with 2 Axes>"
            ]
          },
          "metadata": {}
        },
        {
          "output_type": "display_data",
          "data": {
            "image/png": "[encoded data removed]",
            "text/plain": [
              "<Figure size 432x216 with 2 Axes>"
            ]
          },
          "metadata": {}
        },
        {
          "output_type": "display_data",
          "data": {
            "image/png": "[encoded data removed]",
            "text/plain": [
              "<Figure size 432x216 with 2 Axes>"
            ]
          },
          "metadata": {}
        },
        {
          "output_type": "display_data",
          "data": {
            "image/png": "[encoded data removed]",
            "text/plain": [
              "<Figure size 432x216 with 2 Axes>"
            ]
          },
          "metadata": {}
        }
      ]
    },
    {
      "cell_type": "markdown",
      "metadata": {
        "id": "82L-2vnya7Dh"
      },
      "source": [
        "# Using Scaling"
      ]
    },
    {
      "cell_type": "code",
      "metadata": {
        "id": "T5YRNSsoaaCq"
      },
      "source": [
        "from sklearn.preprocessing import StandardScaler\n",
        "\n",
        "scale = StandardScaler()\n"
      ],
      "execution_count": 37,
      "outputs": []
    },
    {
      "cell_type": "code",
      "metadata": {
        "id": "VgzmSPS1bA_C"
      },
      "source": [
        "cluster_ = df2.copy()\n"
      ],
      "execution_count": 38,
      "outputs": []
    },
    {
      "cell_type": "code",
      "metadata": {
        "id": "yVXJU25LbWtk"
      },
      "source": [
        "cluster_[cluster_.columns] = scale.fit_transform(cluster_)\n"
      ],
      "execution_count": 39,
      "outputs": []
    },
    {
      "cell_type": "code",
      "metadata": {
        "colab": {
          "base_uri": "https://localhost:8080/",
          "height": 440
        },
        "id": "2KQqragRbbCw",
        "outputId": "782c38b9-5b9c-40ac-95b3-4872152d8caa"
      },
      "source": [
        "from sklearn.decomposition import PCA\n",
        "import seaborn as sb\n",
        "\n",
        "pca = PCA(2)\n",
        "pca_result = pca.fit_transform(cluster_) \n",
        "sb.set(style=\"darkgrid\", rc={'figure.figsize':(9,6)}, font_scale=2)\n",
        "plt.scatter(x=pca_result[:,0], y=pca_result[:,1], color=\"black\", lw=2)\n",
        "plt.xlabel(\"Principle Component 1\")\n",
        "plt.ylabel(\"Principle Component 2\")\n",
        "plt.title(\"Strongest Principle Components\")\n",
        "plt.show()"
      ],
      "execution_count": 41,
      "outputs": [
        {
          "output_type": "display_data",
          "data": {
            "image/png": "[encoded data removed]",
            "text/plain": [
              "<Figure size 648x432 with 1 Axes>"
            ]
          },
          "metadata": {}
        }
      ]
    },
    {
      "cell_type": "code",
      "metadata": {
        "colab": {
          "base_uri": "https://localhost:8080/"
        },
        "id": "wOVm9MTwbhRi",
        "outputId": "95eb416a-af3c-47f6-9f6e-9a04c5f3c6d9"
      },
      "source": [
        "import sklearn.cluster as cluster\n",
        "\n",
        "inertia = []\n",
        "for i in tqdm(range(2,10)):\n",
        "    kmeans = cluster.KMeans(n_clusters=i,\n",
        "               init='k-means++',\n",
        "               n_init=15,\n",
        "               max_iter=500,\n",
        "               random_state=17)\n",
        "    kmeans.fit(cluster_)\n",
        "    inertia.append(kmeans.inertia_)"
      ],
      "execution_count": 42,
      "outputs": [
        {
          "output_type": "stream",
          "text": [
            "100%|██████████| 8/8 [00:00<00:00, 17.79it/s]\n"
          ],
          "name": "stderr"
        }
      ]
    },
    {
      "cell_type": "code",
      "metadata": {
        "colab": {
          "base_uri": "https://localhost:8080/"
        },
        "id": "aLMfeVKkby76",
        "outputId": "abdc3ee3-ded8-4947-d2cc-6825ccf0e867"
      },
      "source": [
        "from sklearn.metrics import silhouette_score\n",
        "\n",
        "silhouette = {}\n",
        "for i in tqdm(range(2,10)):\n",
        "    kmeans = cluster.KMeans(n_clusters=i,\n",
        "               init='k-means++',\n",
        "               n_init=15,\n",
        "               max_iter=500,\n",
        "               random_state=17)\n",
        "    kmeans.fit(cluster_)\n",
        "    silhouette[i] = silhouette_score(cluster_, kmeans.labels_, metric='euclidean')"
      ],
      "execution_count": 43,
      "outputs": [
        {
          "output_type": "stream",
          "text": [
            "100%|██████████| 8/8 [00:00<00:00, 13.50it/s]\n"
          ],
          "name": "stderr"
        }
      ]
    },
    {
      "cell_type": "code",
      "metadata": {
        "colab": {
          "base_uri": "https://localhost:8080/",
          "height": 548
        },
        "id": "rddhsbtcb3L3",
        "outputId": "05047973-531f-49eb-baf1-ae9c1fc3c77b"
      },
      "source": [
        "sb.set(style=\"darkgrid\", rc={'figure.figsize':(13,8)}, font_scale=2)\n",
        "\n",
        "plt.subplot(1,2,1)\n",
        "plt.plot(range(2,len(inertia)+2), inertia, marker=\"*\", lw=2, color=\"skyblue\", ms=10)\n",
        "plt.xlabel(\"Number of clusters\")\n",
        "plt.title(\"K-Means Inertia\", fontweight='bold')\n",
        "\n",
        "plt.subplot(1,2,2)\n",
        "plt.bar(range(len(silhouette)), list(silhouette.values()), align='center', width=.7, edgecolor=\"black\", lw=2, color=\"skyblue\" )\n",
        "plt.xticks(range(len(silhouette)), list(silhouette.keys()))\n",
        "plt.xlabel(\"Number of clusters\")\n",
        "plt.title(\"Silhouette Score\", fontweight='bold')\n",
        "\n",
        "plt.show()"
      ],
      "execution_count": 44,
      "outputs": [
        {
          "output_type": "display_data",
          "data": {
            "image/png": "[encoded data removed]",
            "text/plain": [
              "<Figure size 936x576 with 2 Axes>"
            ]
          },
          "metadata": {}
        }
      ]
    },
    {
      "cell_type": "code",
      "metadata": {
        "colab": {
          "base_uri": "https://localhost:8080/"
        },
        "id": "JZGAFDu_b7N-",
        "outputId": "dd330e0d-f3ab-4d32-9ab9-dc60d7a4dc01"
      },
      "source": [
        "kmeans= cluster.KMeans(n_clusters=2, random_state=17, init='k-means++')\n",
        "kmeans_labels = kmeans.fit_predict(cluster_)\n",
        "centroids = kmeans.cluster_centers_\n",
        "centroids_pca = pca.transform(centroids)\n",
        "pd.Series(kmeans_labels).value_counts()"
      ],
      "execution_count": 45,
      "outputs": [
        {
          "output_type": "execute_result",
          "data": {
            "text/plain": [
              "1    33\n",
              "0    28\n",
              "dtype: int64"
            ]
          },
          "metadata": {},
          "execution_count": 45
        }
      ]
    },
    {
      "cell_type": "code",
      "metadata": {
        "colab": {
          "base_uri": "https://localhost:8080/",
          "height": 565
        },
        "id": "02D4YTw-cB1r",
        "outputId": "ad5d6ec7-465b-420a-f8e4-5fa2d9504b55"
      },
      "source": [
        "sb.set(style='darkgrid', rc={'figure.figsize':(12,8)},font_scale=2)\n",
        "plt.scatter(x=pca_result[:,0], y=pca_result[:,1], c=kmeans_labels, cmap=\"CMRmap\", lw=4)\n",
        "plt.scatter(x=centroids_pca[:,0], y=centroids_pca[:,1], marker=\"+\", s=500, linewidths=3, lw=4, color=\"blue\", zorder=10)\n",
        "plt.xlabel(\"Principle Component 1\")\n",
        "plt.ylabel(\"Principle Component 2\")\n",
        "plt.title(\"Clustered Data\")"
      ],
      "execution_count": 46,
      "outputs": [
        {
          "output_type": "execute_result",
          "data": {
            "text/plain": [
              "Text(0.5, 1.0, 'Clustered Data')"
            ]
          },
          "metadata": {},
          "execution_count": 46
        },
        {
          "output_type": "display_data",
          "data": {
            "image/png": "[encoded data removed]",
            "text/plain": [
              "<Figure size 864x576 with 1 Axes>"
            ]
          },
          "metadata": {}
        }
      ]
    },
    {
      "cell_type": "code",
      "metadata": {
        "colab": {
          "base_uri": "https://localhost:8080/",
          "height": 162
        },
        "id": "nqRwb9jecLfL",
        "outputId": "02704d9b-454d-45e9-9ecb-931e468a388c"
      },
      "source": [
        ""
      ],
      "execution_count": 47,
      "outputs": [
        {
          "output_type": "error",
          "ename": "NameError",
          "evalue": "ignored",
          "traceback": [
            "\u001b[0;31m---------------------------------------------------------------------------\u001b[0m",
            "\u001b[0;31mNameError\u001b[0m                                 Traceback (most recent call last)",
            "\u001b[0;32m<ipython-input-47-2226810f9df1>\u001b[0m in \u001b[0;36m<module>\u001b[0;34m()\u001b[0m\n\u001b[0;32m----> 1\u001b[0;31m \u001b[0mprint\u001b[0m\u001b[0;34m(\u001b[0m\u001b[0mlabels\u001b[0m\u001b[0;34m.\u001b[0m\u001b[0mlabels_\u001b[0m\u001b[0;34m)\u001b[0m\u001b[0;34m\u001b[0m\u001b[0;34m\u001b[0m\u001b[0m\n\u001b[0m",
            "\u001b[0;31mNameError\u001b[0m: name 'labels' is not defined"
          ]
        }
      ]
    },
    {
      "cell_type": "code",
      "metadata": {
        "colab": {
          "base_uri": "https://localhost:8080/"
        },
        "id": "ofbKHauDc0_P",
        "outputId": "8dfd569f-f247-4097-a5da-d51a919f61bb"
      },
      "source": [
        "kmeans_labels"
      ],
      "execution_count": 48,
      "outputs": [
        {
          "output_type": "execute_result",
          "data": {
            "text/plain": [
              "array([0, 1, 1, 0, 0, 1, 0, 1, 1, 1, 0, 1, 0, 0, 1, 1, 0, 0, 1, 1, 1, 0,\n",
              "       0, 1, 0, 0, 1, 1, 0, 0, 1, 1, 1, 1, 1, 1, 1, 1, 0, 0, 1, 0, 0, 1,\n",
              "       0, 0, 1, 0, 1, 1, 0, 0, 1, 0, 0, 0, 1, 1, 0, 1, 1], dtype=int32)"
            ]
          },
          "metadata": {},
          "execution_count": 48
        }
      ]
    },
    {
      "cell_type": "code",
      "metadata": {
        "id": "VSVy_6FGc6-n"
      },
      "source": [
        "df_labels = pd.DataFrame(kmeans_labels)\n",
        "df_labels\n",
        "df_labels.to_excel('New_labels.xlsx', index=None)\n"
      ],
      "execution_count": 73,
      "outputs": []
    },
    {
      "cell_type": "code",
      "metadata": {
        "id": "cmpMFf5adHu6"
      },
      "source": [
        "df_new = pd.read_excel(\"New_labels.xlsx\")"
      ],
      "execution_count": 74,
      "outputs": []
    },
    {
      "cell_type": "code",
      "metadata": {
        "colab": {
          "base_uri": "https://localhost:8080/",
          "height": 203
        },
        "id": "_0gO1kSOde7b",
        "outputId": "b3bccae3-d7ce-43bb-fb82-22fa36e8cb8f"
      },
      "source": [
        "df_new.head()"
      ],
      "execution_count": 75,
      "outputs": [
        {
          "output_type": "execute_result",
          "data": {
            "text/html": [
              "<div>\n",
              "<style scoped>\n",
              "    .dataframe tbody tr th:only-of-type {\n",
              "        vertical-align: middle;\n",
              "    }\n",
              "\n",
              "    .dataframe tbody tr th {\n",
              "        vertical-align: top;\n",
              "    }\n",
              "\n",
              "    .dataframe thead th {\n",
              "        text-align: right;\n",
              "    }\n",
              "</style>\n",
              "<table border=\"1\" class=\"dataframe\">\n",
              "  <thead>\n",
              "    <tr style=\"text-align: right;\">\n",
              "      <th></th>\n",
              "      <th>0</th>\n",
              "    </tr>\n",
              "  </thead>\n",
              "  <tbody>\n",
              "    <tr>\n",
              "      <th>0</th>\n",
              "      <td>0</td>\n",
              "    </tr>\n",
              "    <tr>\n",
              "      <th>1</th>\n",
              "      <td>1</td>\n",
              "    </tr>\n",
              "    <tr>\n",
              "      <th>2</th>\n",
              "      <td>1</td>\n",
              "    </tr>\n",
              "    <tr>\n",
              "      <th>3</th>\n",
              "      <td>0</td>\n",
              "    </tr>\n",
              "    <tr>\n",
              "      <th>4</th>\n",
              "      <td>0</td>\n",
              "    </tr>\n",
              "  </tbody>\n",
              "</table>\n",
              "</div>"
            ],
            "text/plain": [
              "   0\n",
              "0  0\n",
              "1  1\n",
              "2  1\n",
              "3  0\n",
              "4  0"
            ]
          },
          "metadata": {},
          "execution_count": 75
        }
      ]
    },
    {
      "cell_type": "code",
      "metadata": {
        "id": "nvyAtpeSdiSc"
      },
      "source": [
        "# concatenating df1 and df2 along rows\n",
        "final_df = pd.concat([df, df_new], axis=1)"
      ],
      "execution_count": 79,
      "outputs": []
    },
    {
      "cell_type": "code",
      "metadata": {
        "colab": {
          "base_uri": "https://localhost:8080/",
          "height": 511
        },
        "id": "ysDuN9-WhlZE",
        "outputId": "c876fac2-413d-460a-c5f3-492285341121"
      },
      "source": [
        "final_df.head(15)"
      ],
      "execution_count": 82,
      "outputs": [
        {
          "output_type": "execute_result",
          "data": {
            "text/html": [
              "<div>\n",
              "<style scoped>\n",
              "    .dataframe tbody tr th:only-of-type {\n",
              "        vertical-align: middle;\n",
              "    }\n",
              "\n",
              "    .dataframe tbody tr th {\n",
              "        vertical-align: top;\n",
              "    }\n",
              "\n",
              "    .dataframe thead th {\n",
              "        text-align: right;\n",
              "    }\n",
              "</style>\n",
              "<table border=\"1\" class=\"dataframe\">\n",
              "  <thead>\n",
              "    <tr style=\"text-align: right;\">\n",
              "      <th></th>\n",
              "      <th>A</th>\n",
              "      <th>B</th>\n",
              "      <th>C</th>\n",
              "      <th>D</th>\n",
              "      <th>Quality</th>\n",
              "      <th>0</th>\n",
              "    </tr>\n",
              "  </thead>\n",
              "  <tbody>\n",
              "    <tr>\n",
              "      <th>0</th>\n",
              "      <td>47</td>\n",
              "      <td>27</td>\n",
              "      <td>45</td>\n",
              "      <td>108</td>\n",
              "      <td>Quality A</td>\n",
              "      <td>0</td>\n",
              "    </tr>\n",
              "    <tr>\n",
              "      <th>1</th>\n",
              "      <td>174</td>\n",
              "      <td>133</td>\n",
              "      <td>134</td>\n",
              "      <td>166</td>\n",
              "      <td>Quality B</td>\n",
              "      <td>1</td>\n",
              "    </tr>\n",
              "    <tr>\n",
              "      <th>2</th>\n",
              "      <td>159</td>\n",
              "      <td>163</td>\n",
              "      <td>135</td>\n",
              "      <td>131</td>\n",
              "      <td>NaN</td>\n",
              "      <td>1</td>\n",
              "    </tr>\n",
              "    <tr>\n",
              "      <th>3</th>\n",
              "      <td>61</td>\n",
              "      <td>23</td>\n",
              "      <td>3</td>\n",
              "      <td>44</td>\n",
              "      <td>Quality A</td>\n",
              "      <td>0</td>\n",
              "    </tr>\n",
              "    <tr>\n",
              "      <th>4</th>\n",
              "      <td>59</td>\n",
              "      <td>60</td>\n",
              "      <td>9</td>\n",
              "      <td>68</td>\n",
              "      <td>Quality A</td>\n",
              "      <td>0</td>\n",
              "    </tr>\n",
              "    <tr>\n",
              "      <th>5</th>\n",
              "      <td>153</td>\n",
              "      <td>140</td>\n",
              "      <td>154</td>\n",
              "      <td>199</td>\n",
              "      <td>NaN</td>\n",
              "      <td>1</td>\n",
              "    </tr>\n",
              "    <tr>\n",
              "      <th>6</th>\n",
              "      <td>34</td>\n",
              "      <td>28</td>\n",
              "      <td>78</td>\n",
              "      <td>22</td>\n",
              "      <td>Quality A</td>\n",
              "      <td>0</td>\n",
              "    </tr>\n",
              "    <tr>\n",
              "      <th>7</th>\n",
              "      <td>191</td>\n",
              "      <td>144</td>\n",
              "      <td>143</td>\n",
              "      <td>154</td>\n",
              "      <td>NaN</td>\n",
              "      <td>1</td>\n",
              "    </tr>\n",
              "    <tr>\n",
              "      <th>8</th>\n",
              "      <td>160</td>\n",
              "      <td>181</td>\n",
              "      <td>194</td>\n",
              "      <td>178</td>\n",
              "      <td>Quality B</td>\n",
              "      <td>1</td>\n",
              "    </tr>\n",
              "    <tr>\n",
              "      <th>9</th>\n",
              "      <td>145</td>\n",
              "      <td>178</td>\n",
              "      <td>158</td>\n",
              "      <td>141</td>\n",
              "      <td>NaN</td>\n",
              "      <td>1</td>\n",
              "    </tr>\n",
              "    <tr>\n",
              "      <th>10</th>\n",
              "      <td>76</td>\n",
              "      <td>94</td>\n",
              "      <td>107</td>\n",
              "      <td>37</td>\n",
              "      <td>Quality A</td>\n",
              "      <td>0</td>\n",
              "    </tr>\n",
              "    <tr>\n",
              "      <th>11</th>\n",
              "      <td>138</td>\n",
              "      <td>200</td>\n",
              "      <td>153</td>\n",
              "      <td>192</td>\n",
              "      <td>Quality B</td>\n",
              "      <td>1</td>\n",
              "    </tr>\n",
              "    <tr>\n",
              "      <th>12</th>\n",
              "      <td>27</td>\n",
              "      <td>106</td>\n",
              "      <td>57</td>\n",
              "      <td>37</td>\n",
              "      <td>Quality A</td>\n",
              "      <td>0</td>\n",
              "    </tr>\n",
              "    <tr>\n",
              "      <th>13</th>\n",
              "      <td>45</td>\n",
              "      <td>76</td>\n",
              "      <td>56</td>\n",
              "      <td>57</td>\n",
              "      <td>Quality A</td>\n",
              "      <td>0</td>\n",
              "    </tr>\n",
              "    <tr>\n",
              "      <th>14</th>\n",
              "      <td>186</td>\n",
              "      <td>142</td>\n",
              "      <td>146</td>\n",
              "      <td>174</td>\n",
              "      <td>NaN</td>\n",
              "      <td>1</td>\n",
              "    </tr>\n",
              "  </tbody>\n",
              "</table>\n",
              "</div>"
            ],
            "text/plain": [
              "      A    B    C    D    Quality  0\n",
              "0    47   27   45  108  Quality A  0\n",
              "1   174  133  134  166  Quality B  1\n",
              "2   159  163  135  131        NaN  1\n",
              "3    61   23    3   44  Quality A  0\n",
              "4    59   60    9   68  Quality A  0\n",
              "5   153  140  154  199        NaN  1\n",
              "6    34   28   78   22  Quality A  0\n",
              "7   191  144  143  154        NaN  1\n",
              "8   160  181  194  178  Quality B  1\n",
              "9   145  178  158  141        NaN  1\n",
              "10   76   94  107   37  Quality A  0\n",
              "11  138  200  153  192  Quality B  1\n",
              "12   27  106   57   37  Quality A  0\n",
              "13   45   76   56   57  Quality A  0\n",
              "14  186  142  146  174        NaN  1"
            ]
          },
          "metadata": {},
          "execution_count": 82
        }
      ]
    },
    {
      "cell_type": "code",
      "metadata": {
        "colab": {
          "base_uri": "https://localhost:8080/"
        },
        "id": "kgMcpLLPhoD0",
        "outputId": "5ba64c30-06dc-439b-eeca-09dc6761eb92"
      },
      "source": [
        "final_df.shape"
      ],
      "execution_count": 81,
      "outputs": [
        {
          "output_type": "execute_result",
          "data": {
            "text/plain": [
              "(61, 6)"
            ]
          },
          "metadata": {},
          "execution_count": 81
        }
      ]
    },
    {
      "cell_type": "code",
      "metadata": {
        "id": "t46BzcVi4Zzc"
      },
      "source": [
        ""
      ],
      "execution_count": null,
      "outputs": []
    }
  ]
}